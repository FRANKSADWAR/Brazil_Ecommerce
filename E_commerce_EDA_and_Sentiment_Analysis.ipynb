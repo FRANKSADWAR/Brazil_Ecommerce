{
 "cells": [
  {
   "cell_type": "markdown",
   "id": "a0722c1e",
   "metadata": {},
   "source": [
    "# Brazil E-Commerce Data Analysis"
   ]
  },
  {
   "cell_type": "markdown",
   "id": "e69e9930",
   "metadata": {},
   "source": [
    "This is a Brazilian ecommerce public dataset of orders made at Olist Store. \n",
    "    \n",
    "The dataset has information of 100k orders from 2016 to 2018 made at multiple marketplaces in Brazil. \n",
    "\n",
    "Its features allows viewing an order from multiple dimensions: from order status, price, payment and freight performance to customer location, product attributes and finally reviews written by customers"
   ]
  },
  {
   "cell_type": "markdown",
   "id": "eab2e33f",
   "metadata": {},
   "source": [
    "This is real commercial data, it has been anonymised, and references to the companies and partners in the review text have been replaced with the names of Game of Thrones great houses."
   ]
  },
  {
   "cell_type": "markdown",
   "id": "81073020",
   "metadata": {},
   "source": [
    "This dataset was generously provided by Olist, the largest department store in Brazilian marketplaces. Olist connects small businesses from all over Brazil to channels without hassle and with a single contract. Those merchants are able to sell their products through the Olist Store and ship them directly to the customers using Olist logistics partners. See more on our website: www.olist.com\n",
    "\n",
    "After a customer purchases the product from Olist Store a seller gets notified to fulfill that order. Once the customer receives the product, or the estimated delivery date is due, the customer gets a satisfaction survey by email where he can give a note for the purchase experience and write down some comments."
   ]
  },
  {
   "cell_type": "markdown",
   "id": "510b12ec",
   "metadata": {},
   "source": [
    "# Data Schema"
   ]
  },
  {
   "cell_type": "markdown",
   "id": "f48e940e",
   "metadata": {},
   "source": [
    "The data is divided in multiple datasets for better understanding and organization. Please refer to the following data schema when working with it:"
   ]
  },
  {
   "cell_type": "markdown",
   "id": "2b6b9e5f",
   "metadata": {},
   "source": [
    "<p><img src= \"data/database_schema.png\"/></p>"
   ]
  },
  {
   "cell_type": "markdown",
   "id": "349921df",
   "metadata": {},
   "source": [
    "This dataset provides a lot of posibilities of use cases for Machine Learning and Data analysis.\n",
    "\n",
    "Here are some of the possibilities that can be explored using this dataset: \n",
    "    \n",
    "- Natural Language Processing (NLP): understanding the reviews provided by the customers through multiple dimensions\n",
    "\n",
    "- Clustering: some customers did not provide reviews, but were they happy or not ?\n",
    "    \n",
    "- Sales Prediction: with the sales dates, can we be able to predict future sales ?\n",
    "    \n",
    "- Delivery performance: can we be able to optimize the delivery times\n",
    "    \n",
    "- Product Quality: which product categories are more prone to customer insatisfaction\n",
    "\n",
    "- Feature engineering: attach some public information into this dataset or generate features from it"
   ]
  },
  {
   "cell_type": "markdown",
   "id": "13db2bf4",
   "metadata": {},
   "source": [
    "<h5>What about using SQL and Metabase for analysis ? </h5>\n",
    "\n",
    "<p>This is a feasible approach since we can use SQL to analyze the data and create sharable dashboards using Metabase.\n",
    "\n",
    "That will require the data to be modelled into our database before the analysis can begin</p>"
   ]
  },
  {
   "cell_type": "markdown",
   "id": "9af9f548",
   "metadata": {},
   "source": [
    "The aim of this kernel is: \n",
    "    \n",
    "\n",
    "<p>1. Understand the customer reviews using NLP techniques.</p>\n",
    "<p>2. Create an interactive data analysis dashboard using Metabase that uncovers trends in sales patterns</p>\n"
   ]
  },
  {
   "cell_type": "markdown",
   "id": "7958c801",
   "metadata": {},
   "source": [
    "### Reading the data"
   ]
  },
  {
   "cell_type": "code",
   "execution_count": 1,
   "id": "d6c4d4b0",
   "metadata": {},
   "outputs": [],
   "source": [
    "import pandas as pd\n",
    "import geopandas as gpd\n",
    "import numpy as np\n",
    "import matplotlib.pyplot as plt\n",
    "from matplotlib.gridspec import GridSpec\n",
    "import seaborn as sns\n",
    "import requests\n",
    "import folium\n",
    "from wordcloud import WordCloud\n",
    "from collections import Counter\n",
    "from PIL import Image\n",
    "\n",
    "import plotly.offline as py\n",
    "import plotly.express as px\n",
    "import plotly.graph_objs as go\n",
    "\n",
    "from folium.plugins import FastMarkerCluster, Fullscreen, MiniMap, HeatMap, HeatMapWithTime,LocateControl "
   ]
  },
  {
   "cell_type": "code",
   "execution_count": 2,
   "id": "f0db545b",
   "metadata": {},
   "outputs": [],
   "source": [
    "data_path = \"data/\"\n",
    "olist_customer = pd.read_csv(data_path + 'olist_customers_dataset.csv')\n",
    "olist_geolocation = pd.read_csv(data_path + 'olist_geolocation_dataset.csv')\n",
    "olist_order_items = pd.read_csv(data_path + 'olist_order_items_dataset.csv')\n",
    "olist_order_payments = pd.read_csv(data_path + 'olist_order_payments_dataset.csv')\n",
    "olist_order_reviews = pd.read_csv(data_path + 'olist_order_reviews_dataset.csv')\n",
    "olist_orders = pd.read_csv(data_path + 'olist_orders_dataset.csv')\n",
    "olist_products = pd.read_csv(data_path + 'olist_products_dataset.csv')\n",
    "olist_sellers = pd.read_csv(data_path + 'olist_sellers_dataset.csv')\n",
    "olist_product_naming = pd.read_csv(data_path + 'product_category_name_translation.csv')\n",
    "\n",
    "brazil_adm = gpd.read_file(data_path+'BRA_adm1.shp')\n",
    "adm_csv = pd.read_csv(data_path+'BRA_adm1.csv')"
   ]
  },
  {
   "cell_type": "code",
   "execution_count": 3,
   "id": "4b26c3c2",
   "metadata": {},
   "outputs": [],
   "source": [
    "datasets = [olist_customer, olist_geolocation, olist_orders, \n",
    "            olist_order_items, olist_order_payments,olist_order_reviews,\n",
    "            olist_products, olist_sellers, olist_product_naming, brazil_adm, adm_csv\n",
    "           ]\n",
    "\n",
    "names = ['olist_customer', 'olist_geolocation', 'olist_orders', \n",
    "            'olist_order_items', 'olist_order_payments','olist_order_reviews',\n",
    "            'olist_products', 'olist_sellers', 'olist_product_naming', 'brazil_adm', 'adm_csv']\n",
    "\n",
    "## Create a dictionary with useful information about the nature of all the datasets\n",
    "data_view = pd.DataFrame({})\n",
    "data_view['dataset'] = names\n",
    "data_view['n_rows'] = [df.shape[0] for df in datasets]\n",
    "data_view['n_cols'] = [df.shape[1] for df in datasets]\n",
    "data_view['null_values'] = [df.isnull().sum().sum() for df in datasets]\n",
    "\n",
    "data_view['number_of_nul_cols'] = [len([col for col, null in df.isnull().sum().items() if null > 0]) for df in datasets]\n",
    "\n",
    "data_view['null_columns'] = [','.join([col for col, null in df.isnull().sum().items() if null > 0]) for df in datasets]"
   ]
  },
  {
   "cell_type": "code",
   "execution_count": 4,
   "id": "cb62e686",
   "metadata": {},
   "outputs": [
    {
     "data": {
      "text/html": [
       "<style type=\"text/css\">\n",
       "#T_8a938_row0_col0, #T_8a938_row0_col1, #T_8a938_row0_col2, #T_8a938_row0_col3, #T_8a938_row0_col4, #T_8a938_row0_col5, #T_8a938_row1_col0, #T_8a938_row1_col1, #T_8a938_row1_col2, #T_8a938_row1_col3, #T_8a938_row1_col4, #T_8a938_row1_col5, #T_8a938_row2_col0, #T_8a938_row2_col1, #T_8a938_row2_col2, #T_8a938_row2_col3, #T_8a938_row2_col4, #T_8a938_row2_col5, #T_8a938_row3_col0, #T_8a938_row3_col1, #T_8a938_row3_col2, #T_8a938_row3_col3, #T_8a938_row3_col4, #T_8a938_row3_col5, #T_8a938_row4_col0, #T_8a938_row4_col1, #T_8a938_row4_col2, #T_8a938_row4_col3, #T_8a938_row4_col4, #T_8a938_row4_col5, #T_8a938_row5_col0, #T_8a938_row5_col1, #T_8a938_row5_col2, #T_8a938_row5_col3, #T_8a938_row5_col4, #T_8a938_row5_col5, #T_8a938_row6_col0, #T_8a938_row6_col1, #T_8a938_row6_col2, #T_8a938_row6_col3, #T_8a938_row6_col4, #T_8a938_row6_col5, #T_8a938_row7_col0, #T_8a938_row7_col1, #T_8a938_row7_col2, #T_8a938_row7_col3, #T_8a938_row7_col4, #T_8a938_row7_col5, #T_8a938_row8_col0, #T_8a938_row8_col1, #T_8a938_row8_col2, #T_8a938_row8_col3, #T_8a938_row8_col4, #T_8a938_row8_col5, #T_8a938_row9_col0, #T_8a938_row9_col1, #T_8a938_row9_col2, #T_8a938_row9_col3, #T_8a938_row9_col4, #T_8a938_row9_col5, #T_8a938_row10_col0, #T_8a938_row10_col1, #T_8a938_row10_col2, #T_8a938_row10_col3, #T_8a938_row10_col4, #T_8a938_row10_col5 {\n",
       "  background-color: yellow;\n",
       "}\n",
       "</style>\n",
       "<table id=\"T_8a938\">\n",
       "  <thead>\n",
       "    <tr>\n",
       "      <th class=\"blank level0\" >&nbsp;</th>\n",
       "      <th id=\"T_8a938_level0_col0\" class=\"col_heading level0 col0\" >dataset</th>\n",
       "      <th id=\"T_8a938_level0_col1\" class=\"col_heading level0 col1\" >n_rows</th>\n",
       "      <th id=\"T_8a938_level0_col2\" class=\"col_heading level0 col2\" >n_cols</th>\n",
       "      <th id=\"T_8a938_level0_col3\" class=\"col_heading level0 col3\" >null_values</th>\n",
       "      <th id=\"T_8a938_level0_col4\" class=\"col_heading level0 col4\" >number_of_nul_cols</th>\n",
       "      <th id=\"T_8a938_level0_col5\" class=\"col_heading level0 col5\" >null_columns</th>\n",
       "    </tr>\n",
       "  </thead>\n",
       "  <tbody>\n",
       "    <tr>\n",
       "      <th id=\"T_8a938_level0_row0\" class=\"row_heading level0 row0\" >0</th>\n",
       "      <td id=\"T_8a938_row0_col0\" class=\"data row0 col0\" >olist_customer</td>\n",
       "      <td id=\"T_8a938_row0_col1\" class=\"data row0 col1\" >99441</td>\n",
       "      <td id=\"T_8a938_row0_col2\" class=\"data row0 col2\" >5</td>\n",
       "      <td id=\"T_8a938_row0_col3\" class=\"data row0 col3\" >0</td>\n",
       "      <td id=\"T_8a938_row0_col4\" class=\"data row0 col4\" >0</td>\n",
       "      <td id=\"T_8a938_row0_col5\" class=\"data row0 col5\" ></td>\n",
       "    </tr>\n",
       "    <tr>\n",
       "      <th id=\"T_8a938_level0_row1\" class=\"row_heading level0 row1\" >1</th>\n",
       "      <td id=\"T_8a938_row1_col0\" class=\"data row1 col0\" >olist_geolocation</td>\n",
       "      <td id=\"T_8a938_row1_col1\" class=\"data row1 col1\" >1000163</td>\n",
       "      <td id=\"T_8a938_row1_col2\" class=\"data row1 col2\" >5</td>\n",
       "      <td id=\"T_8a938_row1_col3\" class=\"data row1 col3\" >0</td>\n",
       "      <td id=\"T_8a938_row1_col4\" class=\"data row1 col4\" >0</td>\n",
       "      <td id=\"T_8a938_row1_col5\" class=\"data row1 col5\" ></td>\n",
       "    </tr>\n",
       "    <tr>\n",
       "      <th id=\"T_8a938_level0_row2\" class=\"row_heading level0 row2\" >2</th>\n",
       "      <td id=\"T_8a938_row2_col0\" class=\"data row2 col0\" >olist_orders</td>\n",
       "      <td id=\"T_8a938_row2_col1\" class=\"data row2 col1\" >99441</td>\n",
       "      <td id=\"T_8a938_row2_col2\" class=\"data row2 col2\" >8</td>\n",
       "      <td id=\"T_8a938_row2_col3\" class=\"data row2 col3\" >4908</td>\n",
       "      <td id=\"T_8a938_row2_col4\" class=\"data row2 col4\" >3</td>\n",
       "      <td id=\"T_8a938_row2_col5\" class=\"data row2 col5\" >order_approved_at,order_delivered_carrier_date,order_delivered_customer_date</td>\n",
       "    </tr>\n",
       "    <tr>\n",
       "      <th id=\"T_8a938_level0_row3\" class=\"row_heading level0 row3\" >3</th>\n",
       "      <td id=\"T_8a938_row3_col0\" class=\"data row3 col0\" >olist_order_items</td>\n",
       "      <td id=\"T_8a938_row3_col1\" class=\"data row3 col1\" >112650</td>\n",
       "      <td id=\"T_8a938_row3_col2\" class=\"data row3 col2\" >7</td>\n",
       "      <td id=\"T_8a938_row3_col3\" class=\"data row3 col3\" >0</td>\n",
       "      <td id=\"T_8a938_row3_col4\" class=\"data row3 col4\" >0</td>\n",
       "      <td id=\"T_8a938_row3_col5\" class=\"data row3 col5\" ></td>\n",
       "    </tr>\n",
       "    <tr>\n",
       "      <th id=\"T_8a938_level0_row4\" class=\"row_heading level0 row4\" >4</th>\n",
       "      <td id=\"T_8a938_row4_col0\" class=\"data row4 col0\" >olist_order_payments</td>\n",
       "      <td id=\"T_8a938_row4_col1\" class=\"data row4 col1\" >103886</td>\n",
       "      <td id=\"T_8a938_row4_col2\" class=\"data row4 col2\" >5</td>\n",
       "      <td id=\"T_8a938_row4_col3\" class=\"data row4 col3\" >0</td>\n",
       "      <td id=\"T_8a938_row4_col4\" class=\"data row4 col4\" >0</td>\n",
       "      <td id=\"T_8a938_row4_col5\" class=\"data row4 col5\" ></td>\n",
       "    </tr>\n",
       "    <tr>\n",
       "      <th id=\"T_8a938_level0_row5\" class=\"row_heading level0 row5\" >5</th>\n",
       "      <td id=\"T_8a938_row5_col0\" class=\"data row5 col0\" >olist_order_reviews</td>\n",
       "      <td id=\"T_8a938_row5_col1\" class=\"data row5 col1\" >99224</td>\n",
       "      <td id=\"T_8a938_row5_col2\" class=\"data row5 col2\" >7</td>\n",
       "      <td id=\"T_8a938_row5_col3\" class=\"data row5 col3\" >145903</td>\n",
       "      <td id=\"T_8a938_row5_col4\" class=\"data row5 col4\" >2</td>\n",
       "      <td id=\"T_8a938_row5_col5\" class=\"data row5 col5\" >review_comment_title,review_comment_message</td>\n",
       "    </tr>\n",
       "    <tr>\n",
       "      <th id=\"T_8a938_level0_row6\" class=\"row_heading level0 row6\" >6</th>\n",
       "      <td id=\"T_8a938_row6_col0\" class=\"data row6 col0\" >olist_products</td>\n",
       "      <td id=\"T_8a938_row6_col1\" class=\"data row6 col1\" >32951</td>\n",
       "      <td id=\"T_8a938_row6_col2\" class=\"data row6 col2\" >9</td>\n",
       "      <td id=\"T_8a938_row6_col3\" class=\"data row6 col3\" >2448</td>\n",
       "      <td id=\"T_8a938_row6_col4\" class=\"data row6 col4\" >8</td>\n",
       "      <td id=\"T_8a938_row6_col5\" class=\"data row6 col5\" >product_category_name,product_name_lenght,product_description_lenght,product_photos_qty,product_weight_g,product_length_cm,product_height_cm,product_width_cm</td>\n",
       "    </tr>\n",
       "    <tr>\n",
       "      <th id=\"T_8a938_level0_row7\" class=\"row_heading level0 row7\" >7</th>\n",
       "      <td id=\"T_8a938_row7_col0\" class=\"data row7 col0\" >olist_sellers</td>\n",
       "      <td id=\"T_8a938_row7_col1\" class=\"data row7 col1\" >3095</td>\n",
       "      <td id=\"T_8a938_row7_col2\" class=\"data row7 col2\" >4</td>\n",
       "      <td id=\"T_8a938_row7_col3\" class=\"data row7 col3\" >0</td>\n",
       "      <td id=\"T_8a938_row7_col4\" class=\"data row7 col4\" >0</td>\n",
       "      <td id=\"T_8a938_row7_col5\" class=\"data row7 col5\" ></td>\n",
       "    </tr>\n",
       "    <tr>\n",
       "      <th id=\"T_8a938_level0_row8\" class=\"row_heading level0 row8\" >8</th>\n",
       "      <td id=\"T_8a938_row8_col0\" class=\"data row8 col0\" >olist_product_naming</td>\n",
       "      <td id=\"T_8a938_row8_col1\" class=\"data row8 col1\" >71</td>\n",
       "      <td id=\"T_8a938_row8_col2\" class=\"data row8 col2\" >2</td>\n",
       "      <td id=\"T_8a938_row8_col3\" class=\"data row8 col3\" >0</td>\n",
       "      <td id=\"T_8a938_row8_col4\" class=\"data row8 col4\" >0</td>\n",
       "      <td id=\"T_8a938_row8_col5\" class=\"data row8 col5\" ></td>\n",
       "    </tr>\n",
       "    <tr>\n",
       "      <th id=\"T_8a938_level0_row9\" class=\"row_heading level0 row9\" >9</th>\n",
       "      <td id=\"T_8a938_row9_col0\" class=\"data row9 col0\" >brazil_adm</td>\n",
       "      <td id=\"T_8a938_row9_col1\" class=\"data row9 col1\" >27</td>\n",
       "      <td id=\"T_8a938_row9_col2\" class=\"data row9 col2\" >13</td>\n",
       "      <td id=\"T_8a938_row9_col3\" class=\"data row9 col3\" >68</td>\n",
       "      <td id=\"T_8a938_row9_col4\" class=\"data row9 col4\" >3</td>\n",
       "      <td id=\"T_8a938_row9_col5\" class=\"data row9 col5\" >CCA_1,NL_NAME_1,VARNAME_1</td>\n",
       "    </tr>\n",
       "    <tr>\n",
       "      <th id=\"T_8a938_level0_row10\" class=\"row_heading level0 row10\" >10</th>\n",
       "      <td id=\"T_8a938_row10_col0\" class=\"data row10 col0\" >adm_csv</td>\n",
       "      <td id=\"T_8a938_row10_col1\" class=\"data row10 col1\" >27</td>\n",
       "      <td id=\"T_8a938_row10_col2\" class=\"data row10 col2\" >13</td>\n",
       "      <td id=\"T_8a938_row10_col3\" class=\"data row10 col3\" >95</td>\n",
       "      <td id=\"T_8a938_row10_col4\" class=\"data row10 col4\" >4</td>\n",
       "      <td id=\"T_8a938_row10_col5\" class=\"data row10 col5\" >CCN_1,CCA_1,NL_NAME_1,VARNAME_1</td>\n",
       "    </tr>\n",
       "  </tbody>\n",
       "</table>\n"
      ],
      "text/plain": [
       "<pandas.io.formats.style.Styler at 0x77e476bcb450>"
      ]
     },
     "execution_count": 4,
     "metadata": {},
     "output_type": "execute_result"
    }
   ],
   "source": [
    "data_view.style.highlight_between()"
   ]
  },
  {
   "cell_type": "code",
   "execution_count": null,
   "id": "72e766b1",
   "metadata": {},
   "outputs": [],
   "source": [
    "df_overview = pd.DataFrame({})\n",
    "name_col = []\n",
    "for name, df in zip(names, datasets):\n",
    "    name_col += [name]* df.shape[1]"
   ]
  },
  {
   "cell_type": "markdown",
   "id": "df76bbd1",
   "metadata": {},
   "source": [
    "## Exploratory Data Analysis"
   ]
  },
  {
   "cell_type": "code",
   "execution_count": 5,
   "id": "f902b703",
   "metadata": {},
   "outputs": [
    {
     "data": {
      "image/png": "[encoded data removed]",
      "text/plain": [
       "<Figure size 1400x600 with 1 Axes>"
      ]
     },
     "metadata": {},
     "output_type": "display_data"
    }
   ],
   "source": [
    "df_orders = olist_orders.merge(olist_customer, how= 'left', on ='customer_id')\n",
    "fig, ax = plt.subplots(figsize = (14,6))\n",
    "sns.countplot(df_orders, x='order_status', ax =ax)\n",
    "plt.show()"
   ]
  },
  {
   "cell_type": "code",
   "execution_count": null,
   "id": "f98fb85e",
   "metadata": {},
   "outputs": [],
   "source": []
  },
  {
   "cell_type": "code",
   "execution_count": null,
   "id": "458e1aa3",
   "metadata": {},
   "outputs": [],
   "source": []
  },
  {
   "cell_type": "code",
   "execution_count": null,
   "id": "18efd2d8",
   "metadata": {},
   "outputs": [],
   "source": []
  },
  {
   "cell_type": "code",
   "execution_count": null,
   "id": "dc49a438",
   "metadata": {},
   "outputs": [],
   "source": []
  },
  {
   "cell_type": "code",
   "execution_count": null,
   "id": "c9cfbc36",
   "metadata": {},
   "outputs": [],
   "source": []
  },
  {
   "cell_type": "code",
   "execution_count": null,
   "id": "6af383a7",
   "metadata": {},
   "outputs": [],
   "source": []
  },
  {
   "cell_type": "code",
   "execution_count": null,
   "id": "a23c11e7",
   "metadata": {},
   "outputs": [],
   "source": []
  }
 ],
 "metadata": {
  "kernelspec": {
   "display_name": "Python 3 (ipykernel)",
   "language": "python",
   "name": "python3"
  },
  "language_info": {
   "codemirror_mode": {
    "name": "ipython",
    "version": 3
   },
   "file_extension": ".py",
   "mimetype": "text/x-python",
   "name": "python",
   "nbconvert_exporter": "python",
   "pygments_lexer": "ipython3",
   "version": "3.11.5"
  }
 },
 "nbformat": 4,
 "nbformat_minor": 5
}
